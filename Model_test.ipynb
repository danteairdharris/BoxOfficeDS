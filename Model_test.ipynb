{
 "cells": [
  {
   "cell_type": "code",
   "execution_count": 3,
   "id": "3cb5d7aa",
   "metadata": {},
   "outputs": [],
   "source": [
    "import pickle\n",
    "import pandas as pd\n",
    "from sklearn.linear_model import LinearRegression"
   ]
  },
  {
   "cell_type": "code",
   "execution_count": 2,
   "id": "5d1dfd26",
   "metadata": {},
   "outputs": [],
   "source": [
    "## Load pickle file data \n",
    "def load_data(filename):\n",
    "    with open(filename, 'rb') as f:\n",
    "        return pickle.load(f)"
   ]
  },
  {
   "cell_type": "code",
   "execution_count": 65,
   "id": "81163bd8",
   "metadata": {},
   "outputs": [
    {
     "data": {
      "text/plain": [
       "array([17314176.16896018])"
      ]
     },
     "execution_count": 65,
     "metadata": {},
     "output_type": "execute_result"
    }
   ],
   "source": [
    "all_data = pd.read_csv('./all_data.csv')\n",
    "test_data = pd.read_csv('./test_movie_data.csv')\n",
    "model = load_data('./Models/LinearRegressionModel.pickle')\n",
    "pd.set_option(\"display.max_rows\", None, \"display.max_columns\", None)\n",
    "data = pd.concat([all_data, test_data])\n",
    "df_model = data[['Lead','Release_month', 'Running_time_min', 'Budget', 'Box_office_opening', 'Box_office', 'Rating']]\n",
    "df_dum = pd.get_dummies(df_model).drop('Box_office_opening', axis=1)\n",
    "df_dum\n",
    "\n",
    "movie = df_dum.iloc[445]\n",
    "movie\n",
    "\n",
    "model.predict(movie.values.reshape(1,-1)) \n",
    "\n",
    "\n"
   ]
  },
  {
   "cell_type": "code",
   "execution_count": null,
   "id": "b610eeac",
   "metadata": {},
   "outputs": [],
   "source": []
  }
 ],
 "metadata": {
  "kernelspec": {
   "display_name": "Python 3",
   "language": "python",
   "name": "python3"
  },
  "language_info": {
   "codemirror_mode": {
    "name": "ipython",
    "version": 3
   },
   "file_extension": ".py",
   "mimetype": "text/x-python",
   "name": "python",
   "nbconvert_exporter": "python",
   "pygments_lexer": "ipython3",
   "version": "3.8.8"
  }
 },
 "nbformat": 4,
 "nbformat_minor": 5
}
