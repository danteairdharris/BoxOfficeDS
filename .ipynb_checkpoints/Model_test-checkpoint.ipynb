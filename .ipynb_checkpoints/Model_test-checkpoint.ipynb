{
 "cells": [
  {
   "cell_type": "code",
   "execution_count": 26,
   "id": "3cb5d7aa",
   "metadata": {},
   "outputs": [],
   "source": [
    "import pickle\n",
    "import pandas as pd\n",
    "from sklearn.linear_model import LinearRegression"
   ]
  },
  {
   "cell_type": "code",
   "execution_count": 56,
   "id": "5d1dfd26",
   "metadata": {},
   "outputs": [],
   "source": [
    "## Load pickle file data \n",
    "def load_data(filename):\n",
    "    with open(filename, 'rb') as f:\n",
    "        return pickle.load(f)"
   ]
  },
  {
   "cell_type": "code",
   "execution_count": 62,
   "id": "81163bd8",
   "metadata": {},
   "outputs": [
    {
     "data": {
      "text/plain": [
       "array([42658907.12986208])"
      ]
     },
     "execution_count": 62,
     "metadata": {},
     "output_type": "execute_result"
    }
   ],
   "source": [
    "data = pd.read_csv('./WB_movie_data_dropna.csv')\n",
    "model = load_data('LinearRegressionModel.pickle')\n",
    "\n",
    "df_model = data[['Release_month', 'Running_time_min', 'Budget', 'Box_office', 'Box_office_opening', 'Rating']]\n",
    "df_dum = pd.get_dummies(df_model).drop('Box_office_opening', axis=1)\n",
    "\n",
    "movie = df_dum.iloc[421]\n",
    "movie\n",
    "model.predict(movie.values.reshape(1,-1))\n",
    "\n",
    "\n"
   ]
  }
 ],
 "metadata": {
  "kernelspec": {
   "display_name": "Python 3",
   "language": "python",
   "name": "python3"
  },
  "language_info": {
   "codemirror_mode": {
    "name": "ipython",
    "version": 3
   },
   "file_extension": ".py",
   "mimetype": "text/x-python",
   "name": "python",
   "nbconvert_exporter": "python",
   "pygments_lexer": "ipython3",
   "version": "3.8.8"
  }
 },
 "nbformat": 4,
 "nbformat_minor": 5
}
