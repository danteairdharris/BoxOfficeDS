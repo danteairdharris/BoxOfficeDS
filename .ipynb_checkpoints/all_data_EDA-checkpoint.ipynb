{
 "cells": [
  {
   "cell_type": "code",
   "execution_count": 2,
   "id": "97ba6e0a",
   "metadata": {},
   "outputs": [],
   "source": [
    "import pandas as pd\n",
    "import seaborn as sns\n",
    "import matplotlib.pyplot as plt "
   ]
  },
  {
   "cell_type": "markdown",
   "id": "56de134f",
   "metadata": {},
   "source": [
    "# Load in scraped data csv and describe()\n"
   ]
  },
  {
   "cell_type": "code",
   "execution_count": 4,
   "id": "e8c90163",
   "metadata": {},
   "outputs": [
    {
     "data": {
      "text/html": [
       "<div>\n",
       "<style scoped>\n",
       "    .dataframe tbody tr th:only-of-type {\n",
       "        vertical-align: middle;\n",
       "    }\n",
       "\n",
       "    .dataframe tbody tr th {\n",
       "        vertical-align: top;\n",
       "    }\n",
       "\n",
       "    .dataframe thead th {\n",
       "        text-align: right;\n",
       "    }\n",
       "</style>\n",
       "<table border=\"1\" class=\"dataframe\">\n",
       "  <thead>\n",
       "    <tr style=\"text-align: right;\">\n",
       "      <th></th>\n",
       "      <th>Release_month</th>\n",
       "      <th>Running_time_min</th>\n",
       "      <th>Budget</th>\n",
       "      <th>Box_office</th>\n",
       "      <th>Box_office_opening</th>\n",
       "    </tr>\n",
       "  </thead>\n",
       "  <tbody>\n",
       "    <tr>\n",
       "      <th>count</th>\n",
       "      <td>6717.000000</td>\n",
       "      <td>7060.000000</td>\n",
       "      <td>4.972000e+03</td>\n",
       "      <td>5.126000e+03</td>\n",
       "      <td>6.431000e+03</td>\n",
       "    </tr>\n",
       "    <tr>\n",
       "      <th>mean</th>\n",
       "      <td>6.561560</td>\n",
       "      <td>105.034136</td>\n",
       "      <td>3.820394e+07</td>\n",
       "      <td>1.119905e+08</td>\n",
       "      <td>1.170468e+07</td>\n",
       "    </tr>\n",
       "    <tr>\n",
       "      <th>std</th>\n",
       "      <td>3.443663</td>\n",
       "      <td>21.323488</td>\n",
       "      <td>4.328972e+07</td>\n",
       "      <td>2.018515e+08</td>\n",
       "      <td>2.136402e+07</td>\n",
       "    </tr>\n",
       "    <tr>\n",
       "      <th>min</th>\n",
       "      <td>1.000000</td>\n",
       "      <td>1.000000</td>\n",
       "      <td>2.183200e+02</td>\n",
       "      <td>4.960000e+03</td>\n",
       "      <td>9.500000e+01</td>\n",
       "    </tr>\n",
       "    <tr>\n",
       "      <th>25%</th>\n",
       "      <td>4.000000</td>\n",
       "      <td>92.000000</td>\n",
       "      <td>1.100000e+07</td>\n",
       "      <td>1.140000e+07</td>\n",
       "      <td>1.702000e+05</td>\n",
       "    </tr>\n",
       "    <tr>\n",
       "      <th>50%</th>\n",
       "      <td>7.000000</td>\n",
       "      <td>102.000000</td>\n",
       "      <td>2.475000e+07</td>\n",
       "      <td>4.130000e+07</td>\n",
       "      <td>4.765838e+06</td>\n",
       "    </tr>\n",
       "    <tr>\n",
       "      <th>75%</th>\n",
       "      <td>9.000000</td>\n",
       "      <td>114.000000</td>\n",
       "      <td>5.000000e+07</td>\n",
       "      <td>1.222000e+08</td>\n",
       "      <td>1.373526e+07</td>\n",
       "    </tr>\n",
       "    <tr>\n",
       "      <th>max</th>\n",
       "      <td>12.000000</td>\n",
       "      <td>421.000000</td>\n",
       "      <td>4.440000e+08</td>\n",
       "      <td>2.847000e+09</td>\n",
       "      <td>3.571150e+08</td>\n",
       "    </tr>\n",
       "  </tbody>\n",
       "</table>\n",
       "</div>"
      ],
      "text/plain": [
       "       Release_month  Running_time_min        Budget    Box_office  \\\n",
       "count    6717.000000       7060.000000  4.972000e+03  5.126000e+03   \n",
       "mean        6.561560        105.034136  3.820394e+07  1.119905e+08   \n",
       "std         3.443663         21.323488  4.328972e+07  2.018515e+08   \n",
       "min         1.000000          1.000000  2.183200e+02  4.960000e+03   \n",
       "25%         4.000000         92.000000  1.100000e+07  1.140000e+07   \n",
       "50%         7.000000        102.000000  2.475000e+07  4.130000e+07   \n",
       "75%         9.000000        114.000000  5.000000e+07  1.222000e+08   \n",
       "max        12.000000        421.000000  4.440000e+08  2.847000e+09   \n",
       "\n",
       "       Box_office_opening  \n",
       "count        6.431000e+03  \n",
       "mean         1.170468e+07  \n",
       "std          2.136402e+07  \n",
       "min          9.500000e+01  \n",
       "25%          1.702000e+05  \n",
       "50%          4.765838e+06  \n",
       "75%          1.373526e+07  \n",
       "max          3.571150e+08  "
      ]
     },
     "execution_count": 4,
     "metadata": {},
     "output_type": "execute_result"
    }
   ],
   "source": [
    "all_data = pd.read_csv('./Data/all_movie_data_cleaned.csv')\n",
    "all_data.describe()"
   ]
  },
  {
   "cell_type": "code",
   "execution_count": 6,
   "id": "fe25e5df",
   "metadata": {},
   "outputs": [
    {
     "data": {
      "text/plain": [
       "Budget        189949985979.820007\n",
       "Box_office    574063234637.880005\n",
       "dtype: object"
      ]
     },
     "execution_count": 6,
     "metadata": {},
     "output_type": "execute_result"
    }
   ],
   "source": [
    "all_data.sum()[['Budget','Box_office']]"
   ]
  },
  {
   "cell_type": "markdown",
   "id": "4fe5bc63",
   "metadata": {},
   "source": [
    "\n",
    "\n",
    "# \t**Create correlation heatmap for relevant indicators**\n",
    "#### - Production Budget(Budget), Total Box Office(Box_office), and Opening Box Office(Box_office_opening) all highly correlated.\n",
    "#### - Run time(Running_time_min) correlates most with Production Budget but not much with other variables.\n",
    "\n"
   ]
  },
  {
   "cell_type": "code",
   "execution_count": 10,
   "id": "dea86270",
   "metadata": {},
   "outputs": [
    {
     "data": {
      "text/plain": [
       "<AxesSubplot:>"
      ]
     },
     "execution_count": 10,
     "metadata": {},
     "output_type": "execute_result"
    },
    {
     "data": {
      "image/png": "[encoded data removed]",
      "text/plain": [
       "<Figure size 432x288 with 2 Axes>"
      ]
     },
     "metadata": {
      "needs_background": "light"
     },
     "output_type": "display_data"
    }
   ],
   "source": [
    "# create correlation matrix\n",
    "corr_matrix = all_data[['Release_month', 'Running_time_min', 'Budget', 'Box_office_opening', 'Box_office']].corr()\n",
    "\n",
    "# create dataframe correlation heatmap\n",
    "cmap = sns.diverging_palette(230, 20, as_cmap=True)\n",
    "sns.heatmap(corr_matrix, cmap=cmap, vmax=.9, center=0,\n",
    "            square=True, linewidths=.5, cbar_kws={\"shrink\": .5})"
   ]
  },
  {
   "cell_type": "markdown",
   "id": "167ba8b0",
   "metadata": {},
   "source": [
    "# Aggregate values for each relevant indicator"
   ]
  },
  {
   "cell_type": "markdown",
   "id": "a251cbc2",
   "metadata": {},
   "source": [
    "## No. of Lead Actor credits aggregated by actor over the period 1990-2019\n"
   ]
  },
  {
   "cell_type": "code",
   "execution_count": 14,
   "id": "b2355fc1",
   "metadata": {
    "scrolled": false
   },
   "outputs": [
    {
     "data": {
      "image/png": "[encoded data removed]",
      "text/plain": [
       "<Figure size 842.4x595.44 with 1 Axes>"
      ]
     },
     "metadata": {
      "needs_background": "light"
     },
     "output_type": "display_data"
    }
   ],
   "source": [
    "# select actors who appeared in a WB movie more than 3 times\n",
    "actors_freq = all_data.groupby('Lead').count()\n",
    "actors = actors_freq[actors_freq['Title'] > 20]\n",
    "actors = actors[['Title']].sort_values(by=['Title'], ascending=False)\n",
    "\n",
    "# create seaborn barplot with x = actors, y = #of occurences\n",
    "a4_dims = (11.7, 8.27)\n",
    "fig, ax = plt.subplots(figsize=a4_dims)\n",
    "chart = sns.barplot(x=actors.index, y=actors['Title'], ax=ax)\n",
    "chart.set_xticklabels(chart.get_xticklabels(), rotation=90)\n",
    "plt.show()\n"
   ]
  },
  {
   "cell_type": "markdown",
   "id": "298993ab",
   "metadata": {},
   "source": [
    "## Total Box office and Opening Box office aggregated by release month over the period 1990-2019\n"
   ]
  },
  {
   "cell_type": "code",
   "execution_count": 15,
   "id": "2729bf2e",
   "metadata": {},
   "outputs": [
    {
     "name": "stdout",
     "output_type": "stream",
     "text": [
      "               Box_office_opening    Box_office\n",
      "Release_month                                  \n",
      "1.0                  4.086457e+09  2.323398e+10\n",
      "2.0                  5.459346e+09  3.046566e+10\n",
      "3.0                  6.315032e+09  3.768348e+10\n",
      "4.0                  6.058632e+09  4.247539e+10\n",
      "5.0                  8.931620e+09  7.270197e+10\n",
      "6.0                  8.534458e+09  7.799993e+10\n",
      "7.0                  6.535403e+09  5.391808e+10\n",
      "8.0                  5.061613e+09  3.479193e+10\n",
      "9.0                  5.257098e+09  3.639146e+10\n",
      "10.0                 5.108521e+09  3.846273e+10\n",
      "11.0                 6.453407e+09  5.839525e+10\n",
      "12.0                 5.508314e+09  6.665211e+10\n"
     ]
    },
    {
     "data": {
      "image/png": "[encoded data removed]",
      "text/plain": [
       "<Figure size 842.4x595.44 with 1 Axes>"
      ]
     },
     "metadata": {
      "needs_background": "light"
     },
     "output_type": "display_data"
    }
   ],
   "source": [
    "# aggregate box office metrics by release months\n",
    "box_bymonth = all_data.groupby('Release_month').sum()[['Box_office_opening','Box_office']]\n",
    "print(box_bymonth)\n",
    "\n",
    "# create seaborn barplot with x = release month, y = total box office, opening box office\n",
    "a4_dims = (11.7, 8.27)\n",
    "fig, ax = plt.subplots(figsize=a4_dims)\n",
    "chart = sns.barplot(x=box_bymonth.index, y=box_bymonth['Box_office'], ax=ax)\n",
    "chart.set_xticklabels(chart.get_xticklabels(), rotation=90)\n",
    "plt.show()"
   ]
  },
  {
   "cell_type": "code",
   "execution_count": 16,
   "id": "e5320912",
   "metadata": {},
   "outputs": [
    {
     "data": {
      "image/png": "[encoded data removed]",
      "text/plain": [
       "<Figure size 842.4x595.44 with 1 Axes>"
      ]
     },
     "metadata": {
      "needs_background": "light"
     },
     "output_type": "display_data"
    }
   ],
   "source": [
    "a4_dims = (11.7, 8.27)\n",
    "fig, ax = plt.subplots(figsize=a4_dims)\n",
    "chart = sns.barplot(x=box_bymonth.index, y=box_bymonth['Box_office_opening'], ax=ax)\n",
    "chart.set_xticklabels(chart.get_xticklabels(), rotation=90)\n",
    "plt.show()"
   ]
  },
  {
   "cell_type": "markdown",
   "id": "abb05e74",
   "metadata": {},
   "source": [
    "# Highest performing Lead actors measured by aggregate total box office per actor\n"
   ]
  },
  {
   "cell_type": "code",
   "execution_count": 17,
   "id": "618e75c5",
   "metadata": {},
   "outputs": [
    {
     "data": {
      "text/html": [
       "<div>\n",
       "<style scoped>\n",
       "    .dataframe tbody tr th:only-of-type {\n",
       "        vertical-align: middle;\n",
       "    }\n",
       "\n",
       "    .dataframe tbody tr th {\n",
       "        vertical-align: top;\n",
       "    }\n",
       "\n",
       "    .dataframe thead th {\n",
       "        text-align: right;\n",
       "    }\n",
       "</style>\n",
       "<table border=\"1\" class=\"dataframe\">\n",
       "  <thead>\n",
       "    <tr style=\"text-align: right;\">\n",
       "      <th></th>\n",
       "      <th>Box_office</th>\n",
       "    </tr>\n",
       "    <tr>\n",
       "      <th>Lead</th>\n",
       "      <th></th>\n",
       "    </tr>\n",
       "  </thead>\n",
       "  <tbody>\n",
       "    <tr>\n",
       "      <th>Robert Downey Jr.</th>\n",
       "      <td>1.160910e+10</td>\n",
       "    </tr>\n",
       "    <tr>\n",
       "      <th>Tom Hanks</th>\n",
       "      <td>9.836800e+09</td>\n",
       "    </tr>\n",
       "    <tr>\n",
       "      <th>Tom Cruise</th>\n",
       "      <td>9.745000e+09</td>\n",
       "    </tr>\n",
       "    <tr>\n",
       "      <th>Leonardo DiCaprio</th>\n",
       "      <td>9.162400e+09</td>\n",
       "    </tr>\n",
       "    <tr>\n",
       "      <th>Johnny Depp</th>\n",
       "      <td>8.658200e+09</td>\n",
       "    </tr>\n",
       "    <tr>\n",
       "      <th>...</th>\n",
       "      <td>...</td>\n",
       "    </tr>\n",
       "    <tr>\n",
       "      <th>Najarra Townsend</th>\n",
       "      <td>0.000000e+00</td>\n",
       "    </tr>\n",
       "    <tr>\n",
       "      <th>Nana Patekar</th>\n",
       "      <td>0.000000e+00</td>\n",
       "    </tr>\n",
       "    <tr>\n",
       "      <th>Nancy Allison Wolfe</th>\n",
       "      <td>0.000000e+00</td>\n",
       "    </tr>\n",
       "    <tr>\n",
       "      <th>Nancy McKeon</th>\n",
       "      <td>0.000000e+00</td>\n",
       "    </tr>\n",
       "    <tr>\n",
       "      <th>Josh Charles</th>\n",
       "      <td>0.000000e+00</td>\n",
       "    </tr>\n",
       "  </tbody>\n",
       "</table>\n",
       "<p>2604 rows × 1 columns</p>\n",
       "</div>"
      ],
      "text/plain": [
       "                       Box_office\n",
       "Lead                             \n",
       "Robert Downey Jr.    1.160910e+10\n",
       "Tom Hanks            9.836800e+09\n",
       "Tom Cruise           9.745000e+09\n",
       "Leonardo DiCaprio    9.162400e+09\n",
       "Johnny Depp          8.658200e+09\n",
       "...                           ...\n",
       "Najarra Townsend     0.000000e+00\n",
       "Nana Patekar         0.000000e+00\n",
       "Nancy Allison Wolfe  0.000000e+00\n",
       "Nancy McKeon         0.000000e+00\n",
       "Josh Charles         0.000000e+00\n",
       "\n",
       "[2604 rows x 1 columns]"
      ]
     },
     "execution_count": 17,
     "metadata": {},
     "output_type": "execute_result"
    }
   ],
   "source": [
    "actors_revenue = all_data.groupby('Lead').sum()\n",
    "actors_revenue = actors_revenue[['Box_office']].sort_values(by=['Box_office'], ascending=False)\n",
    "actors_revenue"
   ]
  }
 ],
 "metadata": {
  "kernelspec": {
   "display_name": "Python 3",
   "language": "python",
   "name": "python3"
  },
  "language_info": {
   "codemirror_mode": {
    "name": "ipython",
    "version": 3
   },
   "file_extension": ".py",
   "mimetype": "text/x-python",
   "name": "python",
   "nbconvert_exporter": "python",
   "pygments_lexer": "ipython3",
   "version": "3.8.8"
  }
 },
 "nbformat": 4,
 "nbformat_minor": 5
}
