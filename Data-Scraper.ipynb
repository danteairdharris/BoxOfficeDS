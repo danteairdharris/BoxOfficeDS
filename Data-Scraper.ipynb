{
 "cells": [
  {
   "cell_type": "code",
   "execution_count": 6,
   "id": "7a58ad10",
   "metadata": {},
   "outputs": [
    {
     "name": "stdout",
     "output_type": "stream",
     "text": [
      "Requirement already satisfied: requests in c:\\anaconda\\lib\\site-packages (2.25.1)\n",
      "Requirement already satisfied: idna<3,>=2.5 in c:\\anaconda\\lib\\site-packages (from requests) (2.10)\n",
      "Requirement already satisfied: chardet<5,>=3.0.2 in c:\\anaconda\\lib\\site-packages (from requests) (4.0.0)\n",
      "Requirement already satisfied: certifi>=2017.4.17 in c:\\anaconda\\lib\\site-packages (from requests) (2020.12.5)\n",
      "Requirement already satisfied: urllib3<1.27,>=1.21.1 in c:\\anaconda\\lib\\site-packages (from requests) (1.26.4)\n"
     ]
    }
   ],
   "source": [
    "!pip install requests"
   ]
  },
  {
   "cell_type": "code",
   "execution_count": 9,
   "id": "e36d6451",
   "metadata": {},
   "outputs": [],
   "source": [
    "from bs4 import BeautifulSoup as bs\n",
    "import pandas as pd\n",
    "import requests"
   ]
  },
  {
   "cell_type": "code",
   "execution_count": 74,
   "id": "364553ba",
   "metadata": {},
   "outputs": [
    {
     "data": {
      "text/plain": [
       "<tr><th class=\"infobox-above summary\" colspan=\"2\" style=\"font-size:110%;font-style:italic;\">Harry Potter and the Goblet of Fire</th></tr>"
      ]
     },
     "execution_count": 74,
     "metadata": {},
     "output_type": "execute_result"
    }
   ],
   "source": [
    "# individual page scraper\n",
    "# load in table \n",
    "page = requests.get('https://en.wikipedia.org/wiki/Harry_Potter_and_the_Goblet_of_Fire_(film)')\n",
    "toScrape = bs(page.content, 'html.parser')\n",
    "movie_details = toScrape.find(class_='infobox vevent')\n",
    "rows = movie_details.find_all('tr')"
   ]
  },
  {
   "cell_type": "code",
   "execution_count": 112,
   "id": "b1e9adc1",
   "metadata": {},
   "outputs": [
    {
     "data": {
      "text/plain": [
       "{'title': 'Harry Potter and the Goblet of Fire',\n",
       " 'Directed by': 'Mike Newell',\n",
       " 'Produced by': 'David Heyman',\n",
       " 'Screenplay by': 'Steve Kloves',\n",
       " 'Based on': 'Harry Potter and the Goblet of Fireby J. K. Rowling',\n",
       " 'Starring': 'Daniel Radcliffe,Rupert Grint,Emma Watson,Robbie Coltrane,Ralph Fiennes,Michael Gambon,Brendan Gleeson,Jason Isaacs,Gary Oldman,Alan Rickman,Maggie Smith,Timothy Spall',\n",
       " 'Music by': 'Patrick Doyle',\n",
       " 'Cinematography': 'Roger Pratt',\n",
       " 'Edited by': 'Mick Audsley',\n",
       " 'Productioncompanies ': 'Warner Bros. Pictures[1],Heyday Films[2]',\n",
       " 'Distributed by': 'Warner Bros. Pictures[1]',\n",
       " 'Release date': '6 November 2005',\n",
       " 'Running time': '157 minutes[3]',\n",
       " 'Countries': 'United Kingdom,United States[4]',\n",
       " 'Language': 'English',\n",
       " 'Budget': '$150 million[5]',\n",
       " 'Box office': '$896.5 million[5]'}"
      ]
     },
     "execution_count": 112,
     "metadata": {},
     "output_type": "execute_result"
    }
   ],
   "source": [
    "#form dictionary\n",
    "\n",
    "def clean(row):\n",
    "    if row.find('th').get_text() == 'Release date':\n",
    "            row_data = row.find('td').get_text().split('(')[0]\n",
    "    else:\n",
    "        row_data = row.find('td').get_text()\n",
    "        \n",
    "    return row_data.strip().replace('\\n', ',').replace('\\xa0', ' ')\n",
    "\n",
    "movie_data = {}\n",
    "\n",
    "for i, row in enumerate(rows):\n",
    "    if i == 0:\n",
    "        movie_data['title'] = row.find('th').get_text()\n",
    "    elif i == 1:\n",
    "        continue\n",
    "    else:\n",
    "        column = row.find('th').get_text()\n",
    "        movie_data[column] = clean(row)\n",
    "        \n",
    "\n",
    "movie_data"
   ]
  },
  {
   "cell_type": "code",
   "execution_count": null,
   "id": "f57be79a",
   "metadata": {},
   "outputs": [],
   "source": []
  }
 ],
 "metadata": {
  "kernelspec": {
   "display_name": "Python 3",
   "language": "python",
   "name": "python3"
  },
  "language_info": {
   "codemirror_mode": {
    "name": "ipython",
    "version": 3
   },
   "file_extension": ".py",
   "mimetype": "text/x-python",
   "name": "python",
   "nbconvert_exporter": "python",
   "pygments_lexer": "ipython3",
   "version": "3.8.8"
  }
 },
 "nbformat": 4,
 "nbformat_minor": 5
}
